{
 "cells": [
  {
   "cell_type": "code",
   "execution_count": 1,
   "id": "a11dc7ee",
   "metadata": {},
   "outputs": [
    {
     "name": "stdout",
     "output_type": "stream",
     "text": [
      "[-3. -3. -3.]\n"
     ]
    }
   ],
   "source": [
    "#1 Дано: списки a,b=[1,1,1],[3,3,3]\n",
    "#Создать одномерные массивы A и B из списков а и b.\n",
    "#Вычислить выражение  −((𝐵−А)∗(𝐵/2))\n",
    "import numpy as np\n",
    "a,b=[1,1,1],[3,3,3]\n",
    "A, B = np.array(a), np.array(b)\n",
    "res = -((B - A) * (B / 2))\n",
    "print(res)"
   ]
  },
  {
   "cell_type": "code",
   "execution_count": 72,
   "id": "ea33761c",
   "metadata": {},
   "outputs": [
    {
     "name": "stdout",
     "output_type": "stream",
     "text": [
      "[[-4. -3. -2. -6. -5. -2. -3. -4.]\n",
      " [-1. -1. -1. -1. -1. -1. -1. -1.]\n",
      " [ 0.  0.  0.  0.  0.  0.  0.  0.]\n",
      " [ 0.  0.  0.  0.  0.  0.  0.  0.]\n",
      " [ 0.  0.  0.  0.  0.  0.  0.  0.]\n",
      " [ 0.  0.  0.  0.  0.  0.  0.  0.]\n",
      " [ 1.  1.  1.  1.  1.  1.  1.  1.]\n",
      " [ 4.  3.  2.  6.  5.  2.  3.  4.]]\n"
     ]
    }
   ],
   "source": [
    "#2 Используя как можно меньше операций в исходном массиве \n",
    "#\"шахматная доска\" np.zeros((8,8)), добиться расстановки кодов \n",
    "#\"шахматных фигур\".\n",
    "\n",
    "'''\n",
    "Ожидаемый результат:\n",
    "\n",
    "[[-4., -3., -2., -6., -5., -2., -3., -4.],\n",
    " [-1., -1., -1., -1., -1., -1., -1., -1.],\n",
    " [0., 0., 0., 0., 0., 0., 0., 0.],\n",
    " [0., 0., 0., 0., 0., 0., 0., 0.],\n",
    " [0., 0., 0., 0., 0., 0., 0., 0.],\n",
    " [0., 0., 0., 0., 0., 0., 0., 0.],\n",
    " [1., 1., 1., 1., 1., 1., 1., 1.],\n",
    " [4., 3., 2., 6., 5., 2., 3., 4.]]\n",
    "\n",
    "'''\n",
    "import numpy as np\n",
    "x = np.zeros((8,8))\n",
    "x[0, 0::7], x[7, 0::7] = -4, 4 \n",
    "x[0, 1::5], x[7, 1::5] = -3, 3\n",
    "x[0, 2::3], x[7, 2::3] = -2, 2\n",
    "x[0, 3], x[7, 3] = -6, 6\n",
    "x[0, 4], x[7, 4] = -5, 5\n",
    "x[1], x[6] = -1, 1\n",
    "\n",
    "print(x)"
   ]
  },
  {
   "cell_type": "code",
   "execution_count": 73,
   "id": "47c1f810",
   "metadata": {},
   "outputs": [
    {
     "name": "stdout",
     "output_type": "stream",
     "text": [
      "[  6  20  42  72 110 156 210 272 342 420]\n"
     ]
    }
   ],
   "source": [
    "#3 Средствами NumPy рассчитать произведения четных чисел от 2 до 20 \n",
    "#на ближайшие к ним бОльшие нечетные числа\n",
    "import numpy as np\n",
    "nums = np.arange(2, 21, 2)\n",
    "nech_nums = nums + 1\n",
    "prod = nums * nech_nums\n",
    "print(prod)\n",
    "\n",
    "\n"
   ]
  },
  {
   "cell_type": "code",
   "execution_count": 78,
   "id": "01e6ca60",
   "metadata": {},
   "outputs": [
    {
     "name": "stdout",
     "output_type": "stream",
     "text": [
      "[[11.9462442  14.91073526  8.71296375  2.36118182 10.37765271  1.51238445\n",
      "  10.63665288]\n",
      " [10.99996757 11.85048715  2.16038202 10.53572667  1.50103541 15.10184358\n",
      "  12.79253404]\n",
      " [ 4.25681439 19.97944817  2.05186578  6.66723054 15.20089449 15.33109708\n",
      "   9.05557236]\n",
      " [ 0.74722395 11.1485791   4.43666704 10.54609857 10.28226191 16.45958765\n",
      "   0.29254694]]\n",
      "\n",
      "[[0.592  0.7425 0.4277 0.1051 0.5123 0.062  0.5254]\n",
      " [0.5439 0.5871 0.0949 0.5203 0.0614 0.7522 0.6349]\n",
      " [0.2014 1.     0.0894 0.3238 0.7573 0.7639 0.4451]\n",
      " [0.0231 0.5514 0.2105 0.5208 0.5074 0.8212 0.    ]]\n"
     ]
    }
   ],
   "source": [
    "#4Сгенерировать двумерный массив arr размерности (4, 7), \n",
    "#состоящий из случайных действительных чисел, равномерно \n",
    "#распределенных в дипазоне от 0 до 20. Нормализовать значения \n",
    "#массива так, что после нормализации максимальный элемент масива \n",
    "#будет равен 1.0, минимальный 0.0. Значения округлить \n",
    "#(с помощью np.round()) до четырех десятичных знаков.\n",
    "import numpy as np\n",
    "arr = np.random.uniform(0, 20, (4, 7))\n",
    "print(arr)\n",
    "min_val = arr.min()\n",
    "max_val = arr.max()\n",
    "norm = np.round((arr - min_val) / (max_val - min_val), 4)\n",
    "print()\n",
    "print(norm)"
   ]
  },
  {
   "cell_type": "code",
   "execution_count": 80,
   "id": "1f5f9589",
   "metadata": {},
   "outputs": [
    {
     "name": "stdout",
     "output_type": "stream",
     "text": [
      "[[ 7  8  9]\n",
      " [12 13 14]\n",
      " [17 18 19]]\n"
     ]
    }
   ],
   "source": [
    "#5 Имеется массив my_array\n",
    "\n",
    "'''\n",
    "my_array = np.array([[1,2,3,4,5],\n",
    "                [6,7,8,9,10],\n",
    "                [11,12,13,14,15],\n",
    "                [16,17,18,19,20],\n",
    "                [21,22,23,24,25]])\n",
    "'''\n",
    "\n",
    "#Напишите код, с помощью которого можно извлечь из него \n",
    "#центральный фрагмент размером 3 х 3, \n",
    "#с числами 7, 8, 9, 12, 13, 14, 17, 18, 19.\n",
    "\n",
    "import numpy as np\n",
    "my_array = np.array([[1,2,3,4,5],\n",
    "                [6,7,8,9,10],\n",
    "                [11,12,13,14,15],\n",
    "                [16,17,18,19,20],\n",
    "                [21,22,23,24,25]])\n",
    "res = my_array[1:4, 1:4]\n",
    "print(res)"
   ]
  },
  {
   "cell_type": "code",
   "execution_count": 81,
   "id": "cf1b423b",
   "metadata": {},
   "outputs": [
    {
     "name": "stdout",
     "output_type": "stream",
     "text": [
      "-0.058\n"
     ]
    }
   ],
   "source": [
    "#6 Создайте массив my_sin, состоящий из синусов \n",
    "#элементов массива my_array. Посчитайте, чему равна сумма \n",
    "#элементов полученного массива. Ответ округлите до трёх цифр после запятой.\n",
    "import numpy as np\n",
    "\n",
    "my_array = np.array([[1,2,3,4,5],\n",
    "                [6,7,8,9,10],\n",
    "                [11,12,13,14,15],\n",
    "                [16,17,18,19,20],\n",
    "                [21,22,23,24,25]])\n",
    "my_sin = np.sin(my_array)\n",
    "res = round(my_sin.sum(), 3)\n",
    "print(res)"
   ]
  },
  {
   "cell_type": "code",
   "execution_count": 84,
   "id": "0ab3cc6b",
   "metadata": {},
   "outputs": [
    {
     "name": "stdout",
     "output_type": "stream",
     "text": [
      "[[81 20 29  0 55]\n",
      " [51  6 55  1 11]\n",
      " [42  2 52 35  2]\n",
      " [ 7 64 66 75 18]]\n",
      "75\n",
      "[[3 3]]\n"
     ]
    }
   ],
   "source": [
    "#7 Создать матрицу из 20 случайных целых чисел от 0 до 100. \n",
    "#Получить второе сверху значение в матрице. \n",
    "#Определить индекс этого значения.\n",
    "import numpy as np\n",
    "matr = np.random.randint(0, 100, size=(4, 5))\n",
    "second = np.sort(matr.flatten())[-2]\n",
    "ind = np.argwhere(matr == second)\n",
    "print(matr)\n",
    "print(second)\n",
    "print(ind)\n"
   ]
  },
  {
   "cell_type": "code",
   "execution_count": 90,
   "id": "d56c949e",
   "metadata": {},
   "outputs": [
    {
     "name": "stdout",
     "output_type": "stream",
     "text": [
      "[[ 2  3  5  1 10  5  3]\n",
      " [ 2  6  5  5  8  2  7]\n",
      " [10  3  1  1  0 10  5]\n",
      " [ 9  5  2  1  0  1  4]]\n",
      "\n",
      "[[ 9  7  5  3  8  5  5]\n",
      " [ 0  0  6  3  2  0  5]\n",
      " [ 4  1  8  3  0  6  9]\n",
      " [ 7  6  1  9  4  6 10]]\n",
      "\n",
      "[[ 9  7  5  3 10  5  5]\n",
      " [ 2  6  6  5  8  2  7]\n",
      " [10  3  8  3  0 10  9]\n",
      " [ 9  6  2  9  4  6 10]]\n",
      "\n",
      "[[2 3 5 1 8 5 3]\n",
      " [0 0 5 3 2 0 5]\n",
      " [4 1 1 1 0 6 5]\n",
      " [7 5 1 1 0 1 4]]\n",
      "\n",
      "[[5.5 5.  5.  2.  9.  5.  4. ]\n",
      " [1.  3.  5.5 4.  5.  1.  6. ]\n",
      " [7.  2.  4.5 2.  0.  8.  7. ]\n",
      " [8.  5.5 1.5 5.  2.  3.5 7. ]]\n"
     ]
    }
   ],
   "source": [
    "#8 Задать два двухмерных массива ar1 и ar2 размерности (4, 7), \n",
    "#состоящих из случайных целых чисел в пределах от 0 до 10. Построить \n",
    "#двухмерный массив размерности (4, 7), каждый элемент которого \n",
    "#представляет собой максимум (минимум, среднее) из двух значений, \n",
    "#находящихся на аналогичной позиции в массивах ar1, ar2.\n",
    "import numpy as np\n",
    "arr1 = np.random.randint(0, 11, size=(4, 7))\n",
    "arr2 = np.random.randint(0, 11, size=(4, 7))\n",
    "maximum = np.maximum(arr1, arr2)\n",
    "minimum = np.minimum(arr1, arr2)\n",
    "srednee = (arr1 + arr2) / 2\n",
    "\n",
    "print(arr1)\n",
    "print()\n",
    "print(arr2)\n",
    "print()\n",
    "print(maximum)\n",
    "print()\n",
    "print(minimum)\n",
    "print()\n",
    "print(srednee)"
   ]
  },
  {
   "cell_type": "code",
   "execution_count": 91,
   "id": "667b9aa6",
   "metadata": {},
   "outputs": [
    {
     "name": "stdout",
     "output_type": "stream",
     "text": [
      "5470.0\n"
     ]
    }
   ],
   "source": [
    "#9 Имеется массив great_array\n",
    "'''\n",
    "first = [x**(1/2) for x in range(100)]\n",
    "second = [x**(1/3) for x in range(100, 200)]\n",
    "third = [x/y for x in range(200,300,2) for y in [3,5]]\n",
    "great_array = np.array([first, second, third]).T\n",
    "'''\n",
    "#Чему равна сумма элементов массива great_array, значение которых больше 50?\n",
    "import numpy as np\n",
    "first = [x**(1/2) for x in range(100)]\n",
    "second = [x**(1/3) for x in range(100, 200)]\n",
    "third = [x/y for x in range(200,300,2) for y in [3,5]]\n",
    "great_array = np.array([first, second, third]).T\n",
    "\n",
    "summ = np.sum(great_array[great_array > 50])\n",
    "print(summ)\n"
   ]
  },
  {
   "cell_type": "code",
   "execution_count": 92,
   "id": "a981546c",
   "metadata": {},
   "outputs": [
    {
     "name": "stdout",
     "output_type": "stream",
     "text": [
      "7.0710678118654755\n"
     ]
    }
   ],
   "source": [
    "#10 Переведите массив great_array в одномерную форму. \n",
    "#Какое значение в получившемся массиве имеет элемент с индексом 150?\n",
    "import numpy as np\n",
    "first = [x**(1/2) for x in range(100)]\n",
    "second = [x**(1/3) for x in range(100, 200)]\n",
    "third = [x/y for x in range(200,300,2) for y in [3,5]]\n",
    "great_array = np.array([first, second, third]).T\n",
    "great_array_flatten = great_array.flatten()\n",
    "x = great_array_flatten[150]\n",
    "print(x)\n",
    "\n",
    "\n",
    "\n"
   ]
  },
  {
   "cell_type": "code",
   "execution_count": 95,
   "id": "2d7a26b6",
   "metadata": {},
   "outputs": [
    {
     "name": "stdout",
     "output_type": "stream",
     "text": [
      "(array([1, 3, 5, 7], dtype=int64),)\n"
     ]
    }
   ],
   "source": [
    "#11 Получить индексы, для которых элементы массивов A и B совпадают.\n",
    "import numpy as np\n",
    "A = np.array([1,2,3,2,3,4,3,4,5,6])\n",
    "B = np.array([7,2,10,2,7,4,9,4,9,8])\n",
    "\n",
    "ind = np.where(A == B)\n",
    "print(ind)\n",
    "\n"
   ]
  },
  {
   "cell_type": "code",
   "execution_count": 96,
   "id": "27909814",
   "metadata": {},
   "outputs": [
    {
     "name": "stdout",
     "output_type": "stream",
     "text": [
      "[[  2   3   6]\n",
      " [  4   5  20]\n",
      " [  6   7  42]\n",
      " [  8   9  72]\n",
      " [ 10  11 110]\n",
      " [ 12  13 156]\n",
      " [ 14  15 210]\n",
      " [ 16  17 272]\n",
      " [ 18  19 342]\n",
      " [ 20  21 420]]\n"
     ]
    }
   ],
   "source": [
    "#12 Создайте три массива: массив четных чисел от 2 до 20, \n",
    "#массив ближайших к числам первого массива бОльших нечётных чисел, \n",
    "#массив векторного произведения первого массива на второй. \n",
    "#Соедините все массивы в один двумерный массив, расположив исходные \n",
    "#массивы в столбцах.\n",
    "import numpy as np\n",
    "A = np.arange(2,21,2)\n",
    "B = A + 1\n",
    "C = A * B\n",
    "res = np.column_stack((A, B, C))\n",
    "print(res)"
   ]
  },
  {
   "cell_type": "code",
   "execution_count": null,
   "id": "5d4c8125",
   "metadata": {},
   "outputs": [],
   "source": []
  }
 ],
 "metadata": {
  "kernelspec": {
   "display_name": "Python 3 (ipykernel)",
   "language": "python",
   "name": "python3"
  },
  "language_info": {
   "codemirror_mode": {
    "name": "ipython",
    "version": 3
   },
   "file_extension": ".py",
   "mimetype": "text/x-python",
   "name": "python",
   "nbconvert_exporter": "python",
   "pygments_lexer": "ipython3",
   "version": "3.11.4"
  }
 },
 "nbformat": 4,
 "nbformat_minor": 5
}
