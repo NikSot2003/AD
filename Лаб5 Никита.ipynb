{
 "cells": [
  {
   "cell_type": "code",
   "execution_count": 10,
   "id": "1da1241d",
   "metadata": {},
   "outputs": [
    {
     "name": "stdout",
     "output_type": "stream",
     "text": [
      "{'apples': 20, 'grape': 25, 'bananas': 15, 'watermelons': 11, 'tomatoes': 15}\n"
     ]
    }
   ],
   "source": [
    "#1 Создайте словарь food продуктов питания, ключами которого являются наименования, а значениями цены. Исходные данные для словаря:\n",
    "\n",
    "titles=('apples,grape,bananas,watermelons,tomatoes'.split(','))\n",
    "prices=(20,25,15,11,15)\n",
    "food = dict(zip(titles, prices))\n",
    "print(food)\n"
   ]
  },
  {
   "cell_type": "code",
   "execution_count": 12,
   "id": "0f355b4b",
   "metadata": {},
   "outputs": [
    {
     "name": "stdout",
     "output_type": "stream",
     "text": [
      "{'apples': 20, 'grape': 25, 'bananas': 15, 'tomatoes': 15, 'melons': 11}\n"
     ]
    }
   ],
   "source": [
    "#2 Удалите из словаря food арбузы (watermelons) и добавьте дыни (melons) по той же цене.\n",
    "titles=('apples,grape,bananas,watermelons,tomatoes'.split(','))\n",
    "prices=(20,25,15,11,15)\n",
    "food = dict(zip(titles, prices))\n",
    "\n",
    "del food['watermelons']\n",
    "        \n",
    "food['melons'] = 11\n",
    "print(food)\n",
    "\n",
    "\n",
    "\n"
   ]
  },
  {
   "cell_type": "code",
   "execution_count": 13,
   "id": "c8c65fa6",
   "metadata": {},
   "outputs": [
    {
     "name": "stdout",
     "output_type": "stream",
     "text": [
      "{'apples': 17.0, 'grape': 21.25, 'bananas': 12.75, 'melons': 9.35, 'tomatoes': 12.75}\n"
     ]
    }
   ],
   "source": [
    "#3 Все цены снижены на 15%. Обновите словарь продуктов.\n",
    "titles=('apples,grape,bananas,melons,tomatoes'.split(','))\n",
    "prices=(20,25,15,11,15)\n",
    "food = dict(zip(titles, prices))\n",
    "\n",
    "food = {product: price * 0.85 for product, price in food.items()}\n",
    "print(food)\n",
    "\n"
   ]
  },
  {
   "cell_type": "code",
   "execution_count": 15,
   "id": "3f32664f",
   "metadata": {},
   "outputs": [
    {
     "name": "stdout",
     "output_type": "stream",
     "text": [
      "{17.0: 'apples', 21.25: 'grape', 12.25: 'bananas', 9.35: 'melons', 12.75: 'tomatoes'}\n"
     ]
    }
   ],
   "source": [
    "#4 Поменяйте местами цены и названия, пусть ключами словаря станут цены, а значениями - названия. \n",
    "#Изменилось ли при этом количество элементов словаря? Если да, то объясните, почему.\n",
    "titles=('apples,grape,bananas,melons,tomatoes'.split(','))\n",
    "prices=(17.0,21.25,12.25,9.35,12.75)\n",
    "food = dict(zip(titles, prices))\n",
    "\n",
    "food = {price: title for title, price in food.items()}\n",
    "print(food)\n",
    "\n",
    "\n",
    "\n",
    "\n",
    "\n",
    "\n",
    "\n",
    "\n"
   ]
  },
  {
   "cell_type": "code",
   "execution_count": 19,
   "id": "65e2672e",
   "metadata": {},
   "outputs": [
    {
     "name": "stdout",
     "output_type": "stream",
     "text": [
      "3\n"
     ]
    }
   ],
   "source": [
    "#5 Напишите функцию, возвращающую максимальную степень некоторого натурального числа  𝑘\n",
    "# (например  𝑘=2), меньшую данного натурального числа  𝑛. Пусть  𝑘 и 𝑛 будут параметрами функции.\n",
    "\n",
    "def stepen(k, n):\n",
    "    res = 0\n",
    "    while res ** k < n:\n",
    "        res += 1\n",
    "    return res\n",
    "k = 3\n",
    "n = 35\n",
    "res = stepen(k, n) - 1\n",
    "print(res)"
   ]
  },
  {
   "cell_type": "code",
   "execution_count": 27,
   "id": "9b3232a8",
   "metadata": {},
   "outputs": [
    {
     "name": "stdout",
     "output_type": "stream",
     "text": [
      "[0, 1, 1, 2, 3, 5, 8, 13, 21, 34, 55, 89, 144, 233, 377, 610, 987]\n"
     ]
    }
   ],
   "source": [
    "#6 Создайте функцию, возвращающую ряд Фибоначчи до \n",
    "#определенного натурального числа n.\n",
    "\n",
    "def fib(n):\n",
    "    f = []\n",
    "    a, b = 0, 1\n",
    "    while a <= n:\n",
    "        f.append(a)\n",
    "        a, b = b, a + b\n",
    "    return f\n",
    "n = 1000\n",
    "res = fib(n)\n",
    "print(res)"
   ]
  },
  {
   "cell_type": "code",
   "execution_count": 30,
   "id": "4eff16cf",
   "metadata": {},
   "outputs": [
    {
     "name": "stdout",
     "output_type": "stream",
     "text": [
      "[0, 1, 1, 2, 3, 5, 8, 13, 21, 34, 55, 89, 144, 233, 377, 610, 987]\n"
     ]
    }
   ],
   "source": [
    "#7 Создайте рекурсивную функцию, возвращающую ряд \n",
    "#Фибоначчи до определенного натурального числа  𝑛.\n",
    "\n",
    "def fib(n, a = 0, b = 1, f = []):\n",
    "    if a > n:\n",
    "        return f\n",
    "    f.append(a)\n",
    "    return fib(n, b, a+b, f)\n",
    "n = 1000\n",
    "res = fib(n)\n",
    "print(res)"
   ]
  },
  {
   "cell_type": "code",
   "execution_count": 33,
   "id": "8bc8512c",
   "metadata": {},
   "outputs": [
    {
     "name": "stdout",
     "output_type": "stream",
     "text": [
      "Число не входит в ряд фибоначчи\n"
     ]
    }
   ],
   "source": [
    "#8 Создайте функцию, которая проверяет, является ли число членом ряда Фибоначчи.\n",
    "\n",
    "def fib(num):\n",
    "    a, b = 0, 1\n",
    "    while a < num:\n",
    "        a, b = b, a + b\n",
    "    return a == num\n",
    "num = 143\n",
    "if fib(num):\n",
    "    print(\"Число входит в ряд фибоначчи\")\n",
    "else:\n",
    "    print(\"Число не входит в ряд фибоначчи\")"
   ]
  },
  {
   "cell_type": "code",
   "execution_count": 36,
   "id": "c0a92d96",
   "metadata": {},
   "outputs": [
    {
     "name": "stdout",
     "output_type": "stream",
     "text": [
      "10712472\n"
     ]
    }
   ],
   "source": [
    "#9 Студентка Александра родилась 11 июня 2003 года в 12 часов дня. \n",
    "#Рассчитать время в минутах с момента рождения.\n",
    "\n",
    "from datetime import datetime\n",
    "now = datetime.now()\n",
    "bd = datetime(2003, 6, 11, 12, 0)\n",
    "res = now - bd\n",
    "minres = res.days * 24 * 60 + res.seconds // 60\n",
    "print(minres)"
   ]
  },
  {
   "cell_type": "code",
   "execution_count": null,
   "id": "b37c799c",
   "metadata": {},
   "outputs": [],
   "source": []
  }
 ],
 "metadata": {
  "kernelspec": {
   "display_name": "Python 3 (ipykernel)",
   "language": "python",
   "name": "python3"
  },
  "language_info": {
   "codemirror_mode": {
    "name": "ipython",
    "version": 3
   },
   "file_extension": ".py",
   "mimetype": "text/x-python",
   "name": "python",
   "nbconvert_exporter": "python",
   "pygments_lexer": "ipython3",
   "version": "3.11.4"
  }
 },
 "nbformat": 4,
 "nbformat_minor": 5
}
