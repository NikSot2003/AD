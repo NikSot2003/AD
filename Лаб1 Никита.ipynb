{
 "cells": [
  {
   "cell_type": "markdown",
   "metadata": {
    "toc": true
   },
   "source": [
    "<h1>Table of Contents<span class=\"tocSkip\"></span></h1>\n",
    "<div class=\"toc\"><ul class=\"toc-item\"><li><span><a href=\"#Тема-1.-Введение-в-программирование-на-языке-Python\" data-toc-modified-id=\"Тема-1.-Введение-в-программирование-на-языке-Python-1\"><span class=\"toc-item-num\">1&nbsp;&nbsp;</span>Тема 1. Введение в программирование на языке Python</a></span></li><li><span><a href=\"#Задания\" data-toc-modified-id=\"Задания-2\"><span class=\"toc-item-num\">2&nbsp;&nbsp;</span>Задания</a></span></li><li><span><a href=\"#1.-Числовые-и-строковые-типы-данных-языка-Python.-Управляющие-конструкции.\" data-toc-modified-id=\"1.-Числовые-и-строковые-типы-данных-языка-Python.-Управляющие-конструкции.-3\"><span class=\"toc-item-num\">3&nbsp;&nbsp;</span>1. Числовые и строковые типы данных языка Python. Управляющие конструкции.</a></span><ul class=\"toc-item\"><li><span><a href=\"#1.1.-Работа-с-числами.-Базовые-числовые-типы-int-и-float\" data-toc-modified-id=\"1.1.-Работа-с-числами.-Базовые-числовые-типы-int-и-float-3.1\"><span class=\"toc-item-num\">3.1&nbsp;&nbsp;</span>1.1. Работа с числами. Базовые числовые типы int и float</a></span></li><li><span><a href=\"#1.2.-Строки,-функции-и-методы-работы-со-строками\" data-toc-modified-id=\"1.2.-Строки,-функции-и-методы-работы-со-строками-3.2\"><span class=\"toc-item-num\">3.2&nbsp;&nbsp;</span>1.2. Строки, функции и методы работы со строками</a></span></li></ul></li></ul></div>"
   ]
  },
  {
   "cell_type": "markdown",
   "metadata": {},
   "source": [
    "\n",
    "# Тема 1. Введение в программирование на языке Python"
   ]
  },
  {
   "cell_type": "markdown",
   "metadata": {},
   "source": [
    "# Задания\n",
    "\n",
    "Выполните задания\n",
    "\n",
    "# 1. Числовые и строковые типы данных языка Python. Управляющие конструкции.\n",
    "\n",
    "## 1.1. Работа с числами. Базовые числовые типы int и float\n",
    "\n",
    "1. Значения переменных А и В ввести с клавиатуры и вывести на экран. После этого значения меняются местами, т.е. A нужно присвоить значение B, а B – значение A, и вновь значения переменных вывести на экран.\n",
    "\n",
    "2. Значение x вводится с клавиатуры. Вычислите $y=(x+1)^2\\cdot \\sqrt{x^3+1}$ Выведите на экран значения $x$ и $y$ с тремя знаками после запятой.\n",
    "\n",
    "3. Вычислите сумму цифр пятизначного числа.\n",
    "\n",
    "4. Для заданного трехзначного числа выведите число, у которого цифры идут в обратном порядке, например, для числа 123 ответ 321.\n",
    "\n",
    "5. Ввести координаты 2 точек: $(x_1,y_1)$ и $(x_2,y_2)$. Вычислите расстояние между этими точками.  Результат выведите с 5 знаками после запятой.\n",
    "\n",
    "6. Разработать программу вычисления по известному радиусу площади круга и длины окружности.\n",
    "\n",
    "7. Разработать программу по вычислению площади кольца по известным значениям его внешнего и внутреннего радиусов.\n",
    "\n",
    "8. Разработать программу вычисления радиуса круга и его площади по известной длине окружности.\n",
    "\n",
    "9. Разработать программу вычисления объема шара: а) по радиусу; б) по длине его экваториальной параллели. Объём шара рассчитывается по формуле $V=\\frac{4}{3}\\pi{r^3}$, где $r$ - радиус.\n",
    "\n",
    "10. Имеются два $n$–мерных вектора $x$ и $y$, которые задают координаты $n$ точек на плоскости (случайные целые числа). Найти наиболее близкие друг другу точки.\n",
    "\n",
    "11. Треугольник задан координатами своих вершин: $(x_1,y_1),(x_2,y_2),(x_3,y_3)$. Значения координат определите с помощью присваивания. Они могут быть нецелыми. Найти периметр и площадь треугольника.\n",
    "\n",
    "12. Пусть пользователь вводит 5 чисел: а, b, c, d, e. Реализуйте программу расчета выражения вида $res=\\frac{a+bc}{2d-e}+Ost[b^e/c]$, где $Ost$ - остаток от деления. Учесть невозможность деления на 0.\n",
    "\n",
    "\n",
    "## 1.2. Строки, функции и методы работы со строками\n",
    "\n",
    "1. Введите строку, состоящую из двух цифр. Преобразуйте ее в целое и вещественное число. Выведите полученные три значения (строку, целое число, вещественное число) на экран в одной строке через запятую, затем пропустите строку и вновь выведите значения по одному на строке. Перед каждым значением выведите его тип.\n",
    "\n",
    "2. Для строки 'Финансовый университет' двумя способами получить подстроку с 1-го по 4-й символы включительно.\n",
    "\n",
    "3. Составить строку из всех четных символов строки 'Финансовый университет'.\n",
    "\n",
    "4. Получить подстроку неизвестной заранее строки, содержащую половину символов строки и расположенную посередине строки.\n",
    "\n",
    "5. Коротко записать создание строки 'oneoneoneoneoneonetwotwotwo'\n",
    "\n",
    "6. Для введенной строки выведите (на отдельной строке):\n",
    "- второй символ этой строки;\n",
    "- предпоследний символ этой строки;\n",
    "- всю строку, кроме последних двух символов;\n",
    "- все символы с четными индексами (считая, что индексация начинается с 0, поэтому символы выводятся, начиная с первого);\n",
    "- все символы с нечетными индексами, то есть начиная со второго символа строки;\n",
    "- все символы в обратном порядке;\n",
    "- все символы строки через один в обратном порядке, начиная с последнего;\n",
    "- длину данной строки.\n",
    "\n",
    "7. Не используя метод count, для заданной строки выполните:\n",
    "- если символ * в данной строке отсутствует, выведите текст «нет символа»;\n",
    "- если символ * встречается в строке только один раз, выведите его индекс;\n",
    "- если символ * встречается два и более раз, выведите индекс его первого, второго и последнего вхождения, удалите первый и последний символ * из строки.\n",
    "\n",
    "8. Дана строка, состоящая из слов, разделенных пробелами. В этой строке:\n",
    "- удалите все лишние пробелы (в начале, в конце, между словами оставить ровно один пробел);\n",
    "- поменяйте регистр символов (строчные сделать прописными, прописные – строчными);\n",
    "- определите, сколько в ней слов.\n",
    "\n",
    "9. Строка содержит фамилию, имя и отчество, записанные через пробелы. Например «Иванов Иван Иванович». Для этой строки:\n",
    "- выведите информацию в виде:\n",
    "```\n",
    "Фамилия       Иванов\n",
    "Имя           Иван\n",
    "Отчество      Иванович\n",
    "```\n",
    "- получите строки вида «Иванов И.И.» и «И.И. Иванов».\n",
    "\n",
    "10. Напишите программу, которая осуществляет вывод кошки на экран. Примечание: кошка выглядят примерно так:\n",
    "```\n",
    "         /\\_/\\ \n",
    "         /@ @\\ \n",
    "        (~~0~~)\n",
    "\n",
    " ```\n",
    "\n",
    "11. Для двух произвольных строк провести сравнение на совпадение содержимого без учета регистра букв и начальных и конечных пробельных символов. Например, для двух строк ' HeLLO WOrlD' и 'hello WORLD ' такое сравнение должно возвращать True (содержание строк совпадает).\n",
    "\n",
    "12. По номеру года определите, является ли данный год високосным. (год является високосным, если его номер кратен 4, но не кратен 100, а также если он кратен 400).\n",
    "\n",
    "18. Даны точки $A=(1,1),B=(5,5),C=(1,4),D=(7,2)$. Найти точку пересечения отрезков $AB$ и $CD$."
   ]
  },
  {
   "cell_type": "markdown",
   "metadata": {},
   "source": [
    "Значения переменных А и В ввести с клавиатуры и вывести на экран. После этого значения меняются местами, т.е. A нужно присвоить значение B, а B – значение A, и вновь значения переменных вывести на экран."
   ]
  },
  {
   "cell_type": "code",
   "execution_count": 5,
   "metadata": {},
   "outputs": [
    {
     "name": "stdout",
     "output_type": "stream",
     "text": [
      "1\n",
      "2\n",
      "a = 1, b = 2\n",
      "a = 2, b = 1\n"
     ]
    }
   ],
   "source": []
  },
  {
   "cell_type": "code",
   "execution_count": null,
   "metadata": {},
   "outputs": [],
   "source": [
    "#1.2\n",
    "x = int(input())\n",
    "y = (x + 1) ** 2 * (x ** 3 + 1) ** (1 / 3)\n",
    "print (f\"x = {x}, y = {round(y, 2)}\")"
   ]
  },
  {
   "cell_type": "code",
   "execution_count": null,
   "metadata": {},
   "outputs": [],
   "source": [
    "#1.3\n",
    "x = int(input())\n",
    "sum = 0\n",
    "while x > 0:\n",
    "    t = x % 10\n",
    "    sum = sum + t\n",
    "    x = x // 10\n",
    "print(f\"sum = {sum}\")"
   ]
  },
  {
   "cell_type": "code",
   "execution_count": 8,
   "metadata": {},
   "outputs": [
    {
     "name": "stdout",
     "output_type": "stream",
     "text": [
      " Обратный порядок: 321\n"
     ]
    }
   ],
   "source": [
    "#1.4\n",
    "x = 123\n",
    "xx = 0\n",
    "while x != 0:\n",
    "    t = x % 10\n",
    "    xx = xx * 10 + t\n",
    "    x //= 10\n",
    "print(f\" Обратный порядок: {xx}\")"
   ]
  },
  {
   "cell_type": "code",
   "execution_count": 9,
   "metadata": {},
   "outputs": [
    {
     "name": "stdout",
     "output_type": "stream",
     "text": [
      "s = 1.41421\n"
     ]
    }
   ],
   "source": [
    "#1.5\n",
    "x1 = int(input(\"x1 =  \"))\n",
    "x2 = int(input(\"x2 =  \"))\n",
    "y1 = int(input(\"y1 =  \"))\n",
    "y2 = int(input(\"y2 =  \"))\n",
    "s = ((x2 - x1) ** 2 + (y2 - y1) ** 2) ** (1 / 2)\n",
    "print(f\"s = {round(s, 5)}\")"
   ]
  },
  {
   "cell_type": "code",
   "execution_count": 12,
   "metadata": {},
   "outputs": [
    {
     "name": "stdout",
     "output_type": "stream",
     "text": [
      "l = 6.28, S = 6.28\n"
     ]
    }
   ],
   "source": [
    "#1.6\n",
    "r = int(input(\"r = \"))\n",
    "l = 2 * 3.14 * r\n",
    "S = 2 * 3.14 * r ** 2\n",
    "print(f\"l = {l}, S = {S}\")\n",
    "\n"
   ]
  },
  {
   "cell_type": "code",
   "execution_count": 11,
   "metadata": {},
   "outputs": [
    {
     "name": "stdout",
     "output_type": "stream",
     "text": [
      "S = 50.24\n"
     ]
    }
   ],
   "source": [
    "#1.7\n",
    "r1 = int(input(\"Внешний r \"))\n",
    "r2 = int(input(\"Внутренний r \"))\n",
    "S = 2 * 3.14 * r1 ** 2 - 2 * 3.14 * r2 ** 2\n",
    "print (f\"S = {S}\")\n"
   ]
  },
  {
   "cell_type": "code",
   "execution_count": 15,
   "metadata": {},
   "outputs": [
    {
     "name": "stdout",
     "output_type": "stream",
     "text": [
      "l = 3, r = 0.47770700636942676, s = 1.4331210191082804\n"
     ]
    }
   ],
   "source": [
    "#1.8\n",
    "l = int(input(\"l = \"))\n",
    "r = l / (2 * 3.14)\n",
    "s = 2 * 3.14 * r ** 2\n",
    "print(f\"l = {l}, r = {r}, s = {s}\")\n"
   ]
  },
  {
   "cell_type": "code",
   "execution_count": 27,
   "metadata": {},
   "outputs": [
    {
     "name": "stdout",
     "output_type": "stream",
     "text": [
      "Через радиус: \n",
      "Через длину окружности: \n",
      "v1 = 33.49333333333333, v2 = 33.49333333333333\n"
     ]
    }
   ],
   "source": [
    "#1.9\n",
    "print(\"Через радиус: \")\n",
    "r = int(input(\"r = \"))\n",
    "V1 = 4 / 3 * 3.14 * (r ** 3)\n",
    "print(\"Через длину окружности: \")\n",
    "l = float(input(\"l = \"))\n",
    "r2 = l / (2 * 3.14)\n",
    "V2 = 4 / 3 * 3.14 * (r2 ** 3)\n",
    "print(f\"v1 = {V1}, v2 = {V2}\")\n",
    "#r = 2, l = 12.56"
   ]
  },
  {
   "cell_type": "code",
   "execution_count": 3,
   "metadata": {
    "tags": []
   },
   "outputs": [
    {
     "name": "stdin",
     "output_type": "stream",
     "text": [
      "n =  4\n"
     ]
    },
    {
     "name": "stdout",
     "output_type": "stream",
     "text": [
      "[5, 2, 2, 2]\n",
      "[7, 4, 7, 1]\n",
      "3.0\n"
     ]
    }
   ],
   "source": [
    "#1.10 ???\n",
    "\n",
    "# Найти наиболее близкие друг другу точки\n",
    "from math import inf, dist\n",
    "from random import randint\n",
    " \n",
    "n = int(input('n = '))\n",
    "x = [randint(1, n * 2) for _ in range(n)]\n",
    "y = [randint(1, n * 2) for _ in range(n)]\n",
    "print(x)\n",
    "print(y)\n",
    "p = list(zip(x,y))\n",
    "min_dist = inf\n",
    "for i in range(n):\n",
    "    for j in range(i + 1, n):\n",
    "        min_dist = min(min_dist, dist(p[i], p[j]))\n",
    "print(min_dist)"
   ]
  },
  {
   "cell_type": "code",
   "execution_count": 33,
   "metadata": {},
   "outputs": [
    {
     "name": "stdout",
     "output_type": "stream",
     "text": [
      "a = 3.1622776601683795, b = 2.8284271247461903, c = 3.1622776601683795\n",
      "P = 9.15298244508295, p = 4.576491222541475, S = 4.000000000000002\n"
     ]
    }
   ],
   "source": [
    "#1.11\n",
    "import math\n",
    "x1 = float(input(\"x1\"))\n",
    "y1 = float(input(\"y1\"))\n",
    "x2 = float(input(\"x2\"))\n",
    "y2 = float(input(\"y2\"))\n",
    "x3 = float(input(\"x3\"))\n",
    "y3 = float(input(\"y3\"))\n",
    "\n",
    "a = ((x2 - x1) ** 2 + (y2 - y1) ** 2) ** (1 / 2)\n",
    "b = ((x3 - x2) ** 2 + (y3 - y2) ** 2) ** (1 / 2)\n",
    "c = ((x3 - x1) ** 2 + (y3 - y1) ** 2) ** (1 / 2)\n",
    "\n",
    "print(f\"a = {a}, b = {b}, c = {c}\")\n",
    "\n",
    "P = a + b + c\n",
    "p = P / 2\n",
    "S = (p * ((p - a) * (p - b) * (p - c))) ** (1/2)\n",
    "print(f\"P = {P}, p = {p}, S = {S}\")\n",
    "\n",
    "\n",
    "\n"
   ]
  },
  {
   "cell_type": "code",
   "execution_count": 42,
   "metadata": {},
   "outputs": [
    {
     "name": "stdout",
     "output_type": "stream",
     "text": [
      "res = 4.333333333333334\n"
     ]
    }
   ],
   "source": [
    "#1.12\n",
    "a = float(input(\"a = \"))\n",
    "b = float(input(\"b = \"))\n",
    "c = float(input(\"c = \"))\n",
    "d = float(input(\"d = \"))\n",
    "e = float(input(\"e = \"))\n",
    "if c == 0 or 2 * d - e == 0:\n",
    "    print(\"Деление на 0\")\n",
    "else:\n",
    "    res = (a + b * c) / (2 * d - e) + (b ** e) % c\n",
    "    print (f\"res = {res}\")\n"
   ]
  },
  {
   "cell_type": "code",
   "execution_count": 57,
   "metadata": {},
   "outputs": [
    {
     "name": "stdout",
     "output_type": "stream",
     "text": [
      "33, 33, 33.0\n",
      "Str: 33\n",
      "ТИП: <class 'str'>\n",
      "Int: 33\n",
      "ТИП: <class 'int'>\n",
      "Float: 33.0\n",
      "ТИП: <class 'float'>\n"
     ]
    }
   ],
   "source": [
    "#2.1\n",
    "STR = input()\n",
    "INT = int(STR)\n",
    "FL = float(STR)\n",
    "print(f\"{STR}, {INT}, {FL}\")\n",
    "\n",
    "print(f\"Str: {STR}\")\n",
    "print(f\"ТИП: {type(STR)}\")\n",
    "print(f\"Int: {INT}\")\n",
    "print(f\"ТИП: {type(INT)}\")\n",
    "print(f\"Float: {FL}\")\n",
    "print(f\"ТИП: {type(FL)}\")\n"
   ]
  },
  {
   "cell_type": "code",
   "execution_count": 59,
   "metadata": {},
   "outputs": [
    {
     "name": "stdout",
     "output_type": "stream",
     "text": [
      "Фина\n",
      "Фина\n",
      "Фина\n"
     ]
    }
   ],
   "source": [
    "#2.2\n",
    "str = \"Финансовый университет\"\n",
    "str2 = str[0:4]\n",
    "str3 = str[slice(0,4)]\n",
    "str4 = str[:4]\n",
    "print(str2)\n",
    "print(str3)\n",
    "print(str4)"
   ]
  },
  {
   "cell_type": "code",
   "execution_count": 62,
   "metadata": {},
   "outputs": [
    {
     "name": "stdout",
     "output_type": "stream",
     "text": [
      "Фнноы нврие\n"
     ]
    }
   ],
   "source": [
    "#2.3\n",
    "str = \"Финансовый университет\"\n",
    "str2 = str[0::2]\n",
    "print(str2)"
   ]
  },
  {
   "cell_type": "code",
   "execution_count": 66,
   "metadata": {},
   "outputs": [
    {
     "name": "stdout",
     "output_type": "stream",
     "text": [
      "345\n"
     ]
    }
   ],
   "source": [
    "#2.4\n",
    "str = input()\n",
    "Len = len(str)\n",
    "len2 = Len // 2\n",
    "ind1 = Len // 3\n",
    "ind2 = ind1 + len2\n",
    "str2 = str[ind1:ind2]\n",
    "print(str2)\n"
   ]
  },
  {
   "cell_type": "code",
   "execution_count": 67,
   "metadata": {},
   "outputs": [
    {
     "name": "stdout",
     "output_type": "stream",
     "text": [
      "oneoneoneoneonetwotwotwo\n"
     ]
    }
   ],
   "source": [
    "#2.5\n",
    "str1 = 'one'\n",
    "str2 = 'two'\n",
    "str3 = str1 * 5 + str2 * 3\n",
    "print (str3)"
   ]
  },
  {
   "cell_type": "code",
   "execution_count": 71,
   "metadata": {},
   "outputs": [
    {
     "name": "stdout",
     "output_type": "stream",
     "text": [
      "2\n",
      "9\n",
      "12345678\n",
      "13579\n",
      "24680\n",
      "0987654321\n",
      "08642\n",
      "10\n"
     ]
    }
   ],
   "source": [
    "#2.6\n",
    "str = input()\n",
    "print(str[1])\n",
    "print(str[-2])\n",
    "print(str[:-2])\n",
    "print(str[::2])\n",
    "print(str[1::2])\n",
    "print(str[::-1])\n",
    "print(str[-1::-2])\n",
    "print(len(str))\n"
   ]
  },
  {
   "cell_type": "code",
   "execution_count": 77,
   "metadata": {},
   "outputs": [
    {
     "name": "stdout",
     "output_type": "stream",
     "text": [
      "12*123*1234*1234\n",
      "Первое вхождение 2, Второе 6, Последнее 11\n",
      "12123*12341234\n"
     ]
    }
   ],
   "source": [
    "#2.7\n",
    "str = input()\n",
    "print(str)\n",
    "\n",
    "if '*' not in str:\n",
    "    print(\"Нет символа\")\n",
    "else:\n",
    "    t = 0\n",
    "    a = -1\n",
    "    fst = -1\n",
    "    scd = -1\n",
    "    lst = -1\n",
    "    for i in range(0, len(str)):\n",
    "        if str[i] == '*':\n",
    "            t += 1\n",
    "            a = i\n",
    "            if t == 1:\n",
    "                fst = i\n",
    "            if t == 2:\n",
    "                scd = i\n",
    "            lst = i\n",
    "                \n",
    "    if t == 1:\n",
    "        print (\"Один раз. Индекс \", a)\n",
    "    else:\n",
    "        print(f\"Первое вхождение {fst}, Второе {scd}, Последнее {lst}\")\n",
    "        print(str[:fst] + str[fst + 1: lst] + str[lst + 1:])\n",
    "    \n",
    "\n",
    "\n",
    "\n",
    "\n"
   ]
  },
  {
   "cell_type": "code",
   "execution_count": 87,
   "metadata": {},
   "outputs": [
    {
     "name": "stdout",
     "output_type": "stream",
     "text": [
      "abc DEF ghi SDF poi\n",
      "Количество слов =  5\n"
     ]
    }
   ],
   "source": [
    "#2.8\n",
    "s = ' ABC   def GHI  sdf POI '\n",
    "s = s.strip()\n",
    "s = \" \".join(s.split())\n",
    "s = s.swapcase()\n",
    "print(s)\n",
    "list = s.split()\n",
    "print(\"Количество слов = \", len(list))"
   ]
  },
  {
   "cell_type": "code",
   "execution_count": 14,
   "metadata": {},
   "outputs": [
    {
     "name": "stdout",
     "output_type": "stream",
     "text": [
      "--------  ----------\n",
      "Фамилия   Гладких\n",
      "Имя       Лариса\n",
      "Отчество  Евгеньевна\n",
      "--------  ----------\n",
      "Гладких Л.Е.\n",
      "Л.Е. Гладких\n"
     ]
    }
   ],
   "source": [
    "#2.9\n",
    "from tabulate import tabulate\n",
    "flag = False\n",
    "while flag != True:\n",
    "    name = \"Гладких Лариса Евгеньевна\"\n",
    "    #name = input(\"Введите ФИО\")\n",
    "    list = name.split()\n",
    "    if len(list) >= 3:\n",
    "        F = list[0]\n",
    "        N = list[1]\n",
    "        O = list[2]\n",
    "        N1 = N[0].upper() + '.'\n",
    "        O1 = O[0].upper() + '.'\n",
    "        NN = N1 + O1\n",
    "        flag = True\n",
    "    else: \n",
    "        print(\"Имя не полное\")\n",
    "\n",
    "print(tabulate([['Фамилия', F], ['Имя', N], ['Отчество', O]]))\n",
    "print(F + ' ' + NN)\n",
    "print(NN + ' ' + F)\n"
   ]
  },
  {
   "cell_type": "code",
   "execution_count": 3,
   "metadata": {},
   "outputs": [
    {
     "name": "stdout",
     "output_type": "stream",
     "text": [
      "\n",
      "    /\\_/\\\n",
      "    /@ @\\\n",
      "   (~~0~~)\n",
      "\n"
     ]
    }
   ],
   "source": [
    "#2.10\n",
    "a = \"\"\"\n",
    "    /\\\\_/\\\\\n",
    "    /@ @\\\\\n",
    "   (~~0~~)\n",
    "\"\"\"\n",
    "print(a)"
   ]
  },
  {
   "cell_type": "code",
   "execution_count": 16,
   "metadata": {},
   "outputs": [
    {
     "name": "stdout",
     "output_type": "stream",
     "text": [
      "Строки равны\n"
     ]
    }
   ],
   "source": [
    "#2.11\n",
    "s1 = \" HeLLO WOrlD\"\n",
    "s2 = \"hello WORLD \"\n",
    "s1 = s1.strip().lower()\n",
    "s2 = s2.strip().lower()\n",
    "if s1 == s2:\n",
    "    print(\"Строки равны\")\n",
    "else: print(\"Строки не равны\")\n"
   ]
  },
  {
   "cell_type": "code",
   "execution_count": 20,
   "metadata": {},
   "outputs": [
    {
     "name": "stdout",
     "output_type": "stream",
     "text": [
      "Год високосный\n"
     ]
    }
   ],
   "source": [
    "#2.12\n",
    "year = int(input())\n",
    "if (year % 4 == 0 and year % 100 != 0) or (year % 100 == 0):\n",
    "    print(\"Год високосный\")\n",
    "else: print(\"Год не високосный\")"
   ]
  },
  {
   "cell_type": "code",
   "execution_count": 21,
   "metadata": {},
   "outputs": [
    {
     "name": "stdout",
     "output_type": "stream",
     "text": [
      "x = 3.25, y = 3.25\n"
     ]
    }
   ],
   "source": [
    "#2.13\n",
    "Ax, Ay = 1, 1\n",
    "Bx, By = 5, 5\n",
    "Cx, Cy = 1, 4\n",
    "Dx, Dy = 7, 2\n",
    "\n",
    "ABx, ABy = Bx - Ax, By - Ay\n",
    "CDx, CDy = Dx - Cx, Dy - Cy\n",
    "\n",
    "d = ABx * CDy - ABy * CDx\n",
    "\n",
    "t = ((Cx - Ax) * CDy - (Cy - Ay) * CDx) / d\n",
    "u = ((Cx - Ax) * ABy - (Cy - Ay) * ABx) / d\n",
    "\n",
    "if 0 <= t <= 1 and 0 <= u <= 1:\n",
    "        print(f\"x = {Ax + t * ABx}, y = {Ay + t * ABy}\")\n",
    "else:\n",
    "    print (\"Прямые не пересекаются - они параллельны\")\n",
    "\n",
    "\n"
   ]
  },
  {
   "cell_type": "code",
   "execution_count": null,
   "metadata": {},
   "outputs": [],
   "source": []
  }
 ],
 "metadata": {
  "kernelspec": {
   "display_name": "Python 3 (ipykernel)",
   "language": "python",
   "name": "python3"
  },
  "language_info": {
   "codemirror_mode": {
    "name": "ipython",
    "version": 3
   },
   "file_extension": ".py",
   "mimetype": "text/x-python",
   "name": "python",
   "nbconvert_exporter": "python",
   "pygments_lexer": "ipython3",
   "version": "3.11.4"
  },
  "toc": {
   "base_numbering": 1,
   "nav_menu": {},
   "number_sections": true,
   "sideBar": true,
   "skip_h1_title": false,
   "title_cell": "Table of Contents",
   "title_sidebar": "Contents",
   "toc_cell": true,
   "toc_position": {},
   "toc_section_display": true,
   "toc_window_display": false
  },
  "varInspector": {
   "cols": {
    "lenName": 16,
    "lenType": 16,
    "lenVar": 40
   },
   "kernels_config": {
    "python": {
     "delete_cmd_postfix": "",
     "delete_cmd_prefix": "del ",
     "library": "var_list.py",
     "varRefreshCmd": "print(var_dic_list())"
    },
    "r": {
     "delete_cmd_postfix": ") ",
     "delete_cmd_prefix": "rm(",
     "library": "var_list.r",
     "varRefreshCmd": "cat(var_dic_list()) "
    }
   },
   "types_to_exclude": [
    "module",
    "function",
    "builtin_function_or_method",
    "instance",
    "_Feature"
   ],
   "window_display": false
  }
 },
 "nbformat": 4,
 "nbformat_minor": 4
}
