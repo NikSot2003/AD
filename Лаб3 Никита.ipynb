{
 "cells": [
  {
   "cell_type": "markdown",
   "metadata": {
    "toc": true
   },
   "source": [
    "<h1>Table of Contents<span class=\"tocSkip\"></span></h1>\n",
    "<div class=\"toc\"><ul class=\"toc-item\"><li><span><a href=\"#Тема-3.-Функции\" data-toc-modified-id=\"Тема-3.-Функции-1\"><span class=\"toc-item-num\">1&nbsp;&nbsp;</span>Тема 3. Функции</a></span></li><li><span><a href=\"#Задания\" data-toc-modified-id=\"Задания-2\"><span class=\"toc-item-num\">2&nbsp;&nbsp;</span>Задания</a></span></li></ul></div>"
   ]
  },
  {
   "cell_type": "markdown",
   "metadata": {},
   "source": [
    "\n",
    "# Тема 3. Функции"
   ]
  },
  {
   "cell_type": "markdown",
   "metadata": {},
   "source": [
    "# Задания\n",
    "\n",
    "Выполните задания\n",
    "\n"
   ]
  },
  {
   "cell_type": "markdown",
   "metadata": {},
   "source": [
    "1. Имеется список из 20 случайных чисел от 0 до 100. Напишите функцию, которая разбивает этот список на $n$ списков по $k$ элементов и включает все эти списки в новый список. Используйте $k$ в качестве параметра функции.\n",
    "\n",
    "2. Напишите функцию, вычисляющую факториал числа, передаваемого в качестве параметра.\n",
    "\n",
    "3. Написать функцию умножения, принимающую от одного до трех параметров. Функцию вызвать с приведенными ниже аргументами. Для случая a4 выбрать 3 первых и 3 последних значения.\n",
    "```\n",
    "a1 = (15, 10 ,5)\n",
    "a2 = (3, 1)\n",
    "a3 = [2, 35, 55]\n",
    "a4 = (5, 10 ,15, 20)\n",
    "```\n",
    "\n",
    "4. Напишите функцию, которая для заданного радиуса r вычисляет площадь круга и длину окружности. Функция возвращает кортеж из 2 значений.\n",
    "\n",
    "5. Реализовать функции для выполнения четырех арифметических операций, преобразующих целые числа в целое число. Создать словарь с функциями исоответствующими им симв олами операций. Для двух заранее заданных целых чисел (например, 25 и 4) выполнить выбранную пользователем арифметическую операцию.\n",
    "\n",
    "6. Написать калькулятор для строковых выражений вида '<число> <операция> <число>', где <число> - целое число, например 113, <арифметическая операция> - одна из операций `+,-,*,//,%,^`. Пример: `calc('13 - 5') -> 8`\n",
    "\n",
    "7. Написать функцию, которая преобразует целое число (от 0 до 999) из текстового представления на русском языке в число типа int. Пример: `to_int('тридцать три') -> 33`\n",
    "\n",
    "8. Написать функцию, которая преобразует целое число (от 0 до 999) из текстового представления на русском языке в число типа int. И сообщает об ошибках (выводит на экран описание типа ошибки и возвращает число -1). Пример: to_int('тридцать три') -> 33 Пример: to_int(\"сто сорок тридцать два сто\") -> -1 Вывод: тридцать - некорректное расположение в числе."
   ]
  },
  {
   "cell_type": "markdown",
   "metadata": {},
   "source": [
    "\n",
    "\n",
    "1. Имеется список из 20 случайных чисел от 0 до 100. Напишите функцию, которая разбивает этот список на $n$ списков по $k$ элементов и включает все эти списки в новый список. Используйте $k$ в качестве параметра функции."
   ]
  },
  {
   "cell_type": "code",
   "execution_count": 8,
   "metadata": {
    "tags": []
   },
   "outputs": [
    {
     "name": "stdin",
     "output_type": "stream",
     "text": [
      "Введите количество списков  3\n"
     ]
    },
    {
     "name": "stdout",
     "output_type": "stream",
     "text": [
      "Некратное значение количества списков\n"
     ]
    },
    {
     "name": "stdin",
     "output_type": "stream",
     "text": [
      "Введите количество списков  2\n",
      "Введите количество элементов  1\n"
     ]
    },
    {
     "name": "stdout",
     "output_type": "stream",
     "text": [
      "Неравное количество элементов в списках\n"
     ]
    },
    {
     "name": "stdin",
     "output_type": "stream",
     "text": [
      "Введите количество элементов  10\n"
     ]
    },
    {
     "name": "stdout",
     "output_type": "stream",
     "text": [
      "Список 1: [64, 94, 4, 33, 18, 38, 52, 79, 39, 23]\n",
      "Список 2: [78, 72, 91, 46, 80, 41, 88, 68, 17, 52]\n"
     ]
    }
   ],
   "source": [
    "import random\n",
    "\n",
    "def lists(x_list, n, k):\n",
    "    new_list = []\n",
    "    for i in range(0, len(x_list), k):\n",
    "        temp = x_list[i:i + k]\n",
    "        new_list.append(temp)\n",
    "    return new_list\n",
    "    \n",
    "\n",
    "\n",
    "x = [random.randint(0, 100) for _ in range(20)]\n",
    "t = False\n",
    "while t != True:\n",
    "    n = int(input(\"Введите количество списков \"))\n",
    "    if 20 % n != 0:\n",
    "        print(\"Некратное значение количества списков\")\n",
    "    else: \n",
    "        t = True \n",
    "\n",
    "t = False\n",
    "while t != True:  \n",
    "    k = int(input(\"Введите количество элементов \"))\n",
    "    if k * n != 20:\n",
    "        print(\"Неравное количество элементов в списках\")\n",
    "    else:\n",
    "        t = True\n",
    "\n",
    "new_list = lists(x, n, k)\n",
    "for i, new_list in enumerate(new_list, 1):\n",
    "    print(f\"Список {i}: {new_list}\")\n",
    "\n"
   ]
  },
  {
   "cell_type": "markdown",
   "metadata": {},
   "source": [
    "2. Напишите функцию, вычисляющую факториал числа, передаваемого в качестве параметра."
   ]
  },
  {
   "cell_type": "code",
   "execution_count": 10,
   "metadata": {
    "tags": []
   },
   "outputs": [
    {
     "name": "stdin",
     "output_type": "stream",
     "text": [
      " 3\n"
     ]
    },
    {
     "name": "stdout",
     "output_type": "stream",
     "text": [
      "6\n"
     ]
    }
   ],
   "source": [
    "\n",
    "def f(n):\n",
    "    if n == 0:\n",
    "        return 1\n",
    "    else:\n",
    "        return n * f(n - 1)\n",
    "a = int(input())\n",
    "print(f(a))\n"
   ]
  },
  {
   "cell_type": "markdown",
   "metadata": {},
   "source": [
    "3. Написать функцию умножения, принимающую от одного до трех параметров. Функцию вызвать с приведенными ниже аргументами. Для случая a4 выбрать 3 первых и 3 последних значения.\n",
    "```\n",
    "a1 = (15, 10 ,5)\n",
    "a2 = (3, 1)\n",
    "a3 = [2, 35, 55]\n",
    "a4 = (5, 10 ,15, 20)\n",
    "```"
   ]
  },
  {
   "cell_type": "code",
   "execution_count": 11,
   "metadata": {
    "tags": []
   },
   "outputs": [
    {
     "name": "stdout",
     "output_type": "stream",
     "text": [
      "Результат a1: 750\n",
      "Результат a2: 3\n",
      "Результат a3: 3850\n",
      "Результат a4 (первые 3 и последние 3 элемента): 2250000\n"
     ]
    }
   ],
   "source": [
    "def prod(a, b=1, c=1):\n",
    "    return a * b * c\n",
    "\n",
    "a1 = (15, 10, 5)\n",
    "a2 = (3, 1)\n",
    "a3 = [2, 35, 55]\n",
    "a4 = (5, 10, 15, 20)\n",
    "\n",
    "print(f\"Результат a1: {prod(*a1)}\")\n",
    "print(f\"Результат a2: {prod(*a2)}\")\n",
    "print(f\"Результат a3: {prod(*a3)}\")\n",
    "print(f\"Результат a4 (первые 3 и последние 3 элемента): {prod(*a4[:3]) * prod(*a4[-3:])}\")\n"
   ]
  },
  {
   "cell_type": "markdown",
   "metadata": {},
   "source": [
    "4. Напишите функцию, которая для заданного радиуса r вычисляет площадь круга и длину окружности. Функция возвращает кортеж из 2 значений."
   ]
  },
  {
   "cell_type": "code",
   "execution_count": 1,
   "metadata": {
    "tags": []
   },
   "outputs": [
    {
     "name": "stdout",
     "output_type": "stream",
     "text": [
      "Введите радиус круга: 7\n",
      "Площадь круга: 307.88\n",
      "Длина окружности: 43.98\n"
     ]
    }
   ],
   "source": [
    "import math\n",
    "\n",
    "def func(r):\n",
    "    S = 2 * math.pi * (r ** 2)\n",
    "    C = 2 * math.pi * r\n",
    "    return (S, C)\n",
    "\n",
    "t = False\n",
    "while t != True:\n",
    "    radius = int(input(\"Введите радиус круга: \"))\n",
    "    if radius < 0:\n",
    "        print(\"Отрицательное значение радиуса\")\n",
    "    else:\n",
    "        t = True\n",
    "        \n",
    "res = func(radius)\n",
    "S, C = res\n",
    "print(f\"Площадь круга: {S:.2f}\")\n",
    "print(f\"Длина окружности: {C:.2f}\")"
   ]
  },
  {
   "cell_type": "markdown",
   "metadata": {},
   "source": [
    "5. Реализовать функции для выполнения четырех арифметических операций, преобразующих целые числа в целое число. Создать словарь с функциями исоответствующими им симв олами операций. Для двух заранее заданных целых чисел (например, 25 и 4) выполнить выбранную пользователем арифметическую операцию."
   ]
  },
  {
   "cell_type": "code",
   "execution_count": 47,
   "metadata": {
    "tags": []
   },
   "outputs": [
    {
     "name": "stdin",
     "output_type": "stream",
     "text": [
      "Введите первое целое число:  3\n",
      "Введите второе целое число:  2\n",
      "Выберите операцию (+, -, *, /):  +\n"
     ]
    },
    {
     "name": "stdout",
     "output_type": "stream",
     "text": [
      "Результат операции: 5\n"
     ]
    }
   ],
   "source": [
    "\n",
    "\n",
    "def plus(x, y):\n",
    "    return x + y\n",
    "\n",
    "def minus(x, y):\n",
    "    return x - y\n",
    "\n",
    "def prod(x, y):\n",
    "    return x * y\n",
    "\n",
    "def delenie(x, y):\n",
    "    if y == 0:\n",
    "        return \"Деление на ноль недопустимо\"\n",
    "    return x / y\n",
    "\n",
    "op = {\n",
    "    '+': plus,\n",
    "    '-': minus,\n",
    "    '*': prod,\n",
    "    '/': delenie\n",
    "}\n",
    "\n",
    "x1 = int(input(\"Введите первое целое число: \"))\n",
    "x2 = int(input(\"Введите второе целое число: \"))\n",
    "t = False\n",
    "while t != True:\n",
    "    oper = input(\"Выберите операцию (+, -, *, /): \")\n",
    "    if oper not in op:\n",
    "        print(\"Неверный символ операции\")\n",
    "    else:\n",
    "        t = True\n",
    "res = op[oper](x1, x2)\n",
    "print(f\"Результат операции: {res}\")"
   ]
  },
  {
   "cell_type": "markdown",
   "metadata": {},
   "source": [
    "6. Написать калькулятор для строковых выражений вида '<число> <операция> <число>', где <число> - целое число, например 113, <арифметическая операция> - одна из операций `+,-,*,//,%,^`. Пример: `calc('13 - 5') -> 8`"
   ]
  },
  {
   "cell_type": "code",
   "execution_count": 48,
   "metadata": {
    "tags": []
   },
   "outputs": [
    {
     "name": "stdin",
     "output_type": "stream",
     "text": [
      " 1 + 2\n"
     ]
    },
    {
     "name": "stdout",
     "output_type": "stream",
     "text": [
      "Результат: 3\n"
     ]
    }
   ],
   "source": [
    "def calc(x):\n",
    "    try:\n",
    "        x1, op, x2 = x.split()\n",
    "        x1 = int(x1)\n",
    "        x2 = int(x2)\n",
    "\n",
    "        if op == '+':\n",
    "            res = x1 + x2\n",
    "        elif op == '-':\n",
    "            res = x1 - x2\n",
    "        elif op == '*':\n",
    "            res = x1 * x2\n",
    "        elif op == '/':\n",
    "            if x2 == 0:\n",
    "                return \"на ноль делить нельзя\"\n",
    "            res = x1 / x2\n",
    "        elif op == '%':\n",
    "            res = x1 % x2\n",
    "        elif op == '^':\n",
    "            res = x1 ** x2\n",
    "        else:\n",
    "            return \"Недопустимая операция\"\n",
    "        return res\n",
    "    except:\n",
    "        return \"Некорректное выражение\"\n",
    "\n",
    "x = input( )\n",
    "res = calc(x)\n",
    "print(f\"Результат: {res}\")\n"
   ]
  },
  {
   "cell_type": "markdown",
   "metadata": {},
   "source": [
    "7. Написать функцию, которая преобразует целое число (от 0 до 999) из текстового представления на русском языке в число типа int. Пример: `to_int('тридцать три') -> 33`"
   ]
  },
  {
   "cell_type": "code",
   "execution_count": 56,
   "metadata": {
    "tags": []
   },
   "outputs": [
    {
     "name": "stdin",
     "output_type": "stream",
     "text": [
      " триста двадцать пять\n"
     ]
    },
    {
     "name": "stdout",
     "output_type": "stream",
     "text": [
      "Результат: 325\n"
     ]
    }
   ],
   "source": [
    "def func(x):\n",
    "    nums = {\n",
    "        'ноль': 0, 'один': 1, 'два': 2, 'три': 3, 'четыре': 4, 'пять': 5, 'шесть': 6, 'семь': 7, 'восемь': 8, 'девять': 9,\n",
    "        'десять': 10, 'одиннадцать': 11, 'двенадцать': 12, 'тринадцать': 13, 'четырнадцать': 14, 'пятнадцать': 15,\n",
    "        'шестнадцать': 16, 'семнадцать': 17, 'восемнадцать': 18, 'девятнадцать': 19,\n",
    "    }\n",
    "    tens = {\n",
    "        'двадцать': 20, 'тридцать': 30, 'сорок': 40, 'пятьдесят': 50, 'шестьдесят': 60, 'семьдесят': 70, 'восемьдесят': 80, 'девяносто': 90,\n",
    "    }\n",
    "    sot = {'сто': 100, 'двесте': 200, 'триста': 300, 'четыреста':400, 'пятьсот': 500, 'шестьсот': 600, 'семьсот': 700, 'восемьсот': 800, 'девятьсот': 900\n",
    "          }\n",
    "    words = x.split()\n",
    "    num = 0\n",
    "    t = 0\n",
    "    for word in words:\n",
    "        if word in nums:\n",
    "            num += nums[word]\n",
    "        elif word in tens:\n",
    "            num += tens[word]\n",
    "        elif word in sot:\n",
    "            num += sot[word]\n",
    "        elif word == 'тысяча':\n",
    "            num += 1000\n",
    "        else:\n",
    "            return \"Неверное число\"\n",
    "    t += num\n",
    "    return t\n",
    "x  = input( )\n",
    "res = func(x)\n",
    "print(f\"Результат: {res}\")\n"
   ]
  }
 ],
 "metadata": {
  "kernelspec": {
   "display_name": "Python 3 (ipykernel)",
   "language": "python",
   "name": "python3"
  },
  "language_info": {
   "codemirror_mode": {
    "name": "ipython",
    "version": 3
   },
   "file_extension": ".py",
   "mimetype": "text/x-python",
   "name": "python",
   "nbconvert_exporter": "python",
   "pygments_lexer": "ipython3",
   "version": "3.11.4"
  },
  "toc": {
   "base_numbering": 1,
   "nav_menu": {},
   "number_sections": true,
   "sideBar": true,
   "skip_h1_title": false,
   "title_cell": "Table of Contents",
   "title_sidebar": "Contents",
   "toc_cell": true,
   "toc_position": {},
   "toc_section_display": true,
   "toc_window_display": false
  },
  "varInspector": {
   "cols": {
    "lenName": 16,
    "lenType": 16,
    "lenVar": 40
   },
   "kernels_config": {
    "python": {
     "delete_cmd_postfix": "",
     "delete_cmd_prefix": "del ",
     "library": "var_list.py",
     "varRefreshCmd": "print(var_dic_list())"
    },
    "r": {
     "delete_cmd_postfix": ") ",
     "delete_cmd_prefix": "rm(",
     "library": "var_list.r",
     "varRefreshCmd": "cat(var_dic_list()) "
    }
   },
   "types_to_exclude": [
    "module",
    "function",
    "builtin_function_or_method",
    "instance",
    "_Feature"
   ],
   "window_display": false
  }
 },
 "nbformat": 4,
 "nbformat_minor": 4
}
